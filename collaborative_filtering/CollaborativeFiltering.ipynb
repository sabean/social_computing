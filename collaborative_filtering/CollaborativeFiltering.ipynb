{
 "cells": [
  {
   "cell_type": "markdown",
   "metadata": {
    "collapsed": true
   },
   "source": [
    "# Social Computing - Summer 2019\n",
    "# Exercise 3: Collaborative Filtering Recommender System\n",
    "\n",
    "Collaborative filtering is the task of automatically predicting a user's interests based on a larger user group's behavior. If a target user shares similar preferences on items or products with another user, they are likely to favor other items of that user as well. The idea of collaborative filtering recommenders is to find users the target user is similar to and recommend the items highly rated by those users. The problem of this exercise will be to implement a collaborative filtering recommender system based on the approach of [1].\n",
    "\n",
    "[1] F. Ricci et al.: _Recommender Systems Handbook_. Springer, 2011.\n",
    "\n",
    "## Problem 3.1: Movie Recommender System\n",
    "You will work with subset of the [MovieLens](https://movielens.org) dataset which contains 1862 movies and 100k ratings. The input is provided in two data files, a listing of movies (_u.item_) and their ratings by users (_u.data_).<br>\n",
    "For the _u.item_ file, each row represents a movie with its attributes separated by '|' but the only attributes that matter for the exercise are the movie ID and the movie name. For the _u.data_ file, each row represents one user's rating for a movie. The attributes are:\n",
    "* user ID\n",
    "* movie ID\n",
    "* rating\n",
    "* timestamp (not relevant for the exercise)\n",
    "\n",
    "Your task will be to implement a collaborative filtering recommender for the given dataset.\n",
    "\n",
    "### Collaborative Filtering Recommender\n",
    "The main goal is to find a list of users similar to the target user for recommendations. There are several ways of measuring similarity, e.g. using the cosine similarity or the Euclidean distance. For simplicity reasons, the latter will be used. The estimated rating for the target user for each movie is given by\n",
    "\n",
    "$$r_{u,i} = \\frac{\\sum_{v \\in N_i(u)} w_{u,v}r_{v,i}}{\\sum_{v \\in N_i(u)} w_{u,v}}$$\n",
    "\n",
    "where $r_{u,i}$ is the estimated recommendation of item $i$ for target user $u$. $N_i(u)$ is the set of similar users to target user $u$ for the designated item $i$. $w_{u,v}$ is the similarity score between users $u$ and $v$ (used as a weighting factor).<p>\n",
    "\n",
    "### Task Overview\n",
    "**Write a Python program that implements a simple collaborative filtering movie recommender.** The entry point to your recommendation engine should be a function that takes a user ID, and paths to the two aforementioned datasets. The function should return the top twenty recommended movies for that user (which were not rated by the user yet). The output should be a list of tuples, containing a movie and its estimated rating - sorted by the highest rating. You can either use the templates given below or design your recommendation engine the way you want, but straightforward collborative filtering is highly recommended. Make sure that the code is clean, readable, and well documented. **Test your program for user 15.**"
   ]
  },
  {
   "cell_type": "markdown",
   "metadata": {},
   "source": [
    "### Task 1: Creating The Dictionaries\n",
    "The first thing to do is **implementing two functions that create the dictionaries** for the movies and the user ratings. For the movies, use the movie ID as a key and the movie name as the value. Concerning the user ratings dictionary, a dict of dicts format like ```{u1_id: {m1_id: rating1, m2_id: rating 2, ...}, u2_id: {...}, ...}``` might be useful since the user's rating needs to be stored for each movie."
   ]
  },
  {
   "cell_type": "code",
   "execution_count": 1,
   "metadata": {},
   "outputs": [],
   "source": [
    "import math\n",
    "\n",
    "def create_movie_dict(path):\n",
    "    # Movie ID as key, name as value\n",
    "    movie_dict = {}\n",
    "    with open(path, encoding='utf-8') as file:        \n",
    "        for line in file:\n",
    "            # Extracting the first two attributes, movie_id and movie_name\n",
    "            attributes = line.split('|')\n",
    "            movie_dict[int(attributes[0])] = attributes[1]\n",
    "            \n",
    "    return movie_dict\n",
    "\n",
    "\n",
    "def create_user_rating_dict(path):\n",
    "    # User ID as key, dict of ratings as values\n",
    "    user_rating_dict = {}\n",
    "\n",
    "    with open(path, encoding='utf-8') as file:        \n",
    "        for line in file:\n",
    "            # Extracting all the information except for timestamp\n",
    "            attributes = line.split()\n",
    "            user_rating_dict.setdefault(int(attributes[0]), {})[int(attributes[1])] = int(attributes[2])\n",
    "    \n",
    "    return user_rating_dict"
   ]
  },
  {
   "cell_type": "markdown",
   "metadata": {},
   "source": [
    "### Task 2: Calculating Similarity Scores\n",
    "The task is to **implement a function that calculates the similarity score $w_{u,v}$** between two users $u$ and $v$. This should be done for all users and the movies $i$ they both rated. For the similarity score, use the _normalized_ Euclidean distance measure given by\n",
    "$$ w_{u,v} = \\frac{1}{1 + \\sum_{i} (r_{u,i} - r_{v,i})^2} $$"
   ]
  },
  {
   "cell_type": "code",
   "execution_count": 2,
   "metadata": {},
   "outputs": [],
   "source": [
    "# Calculates simularity using Euclidean distance \n",
    "def calculate_similarity_score(ratings, u1_id, u2_id):\n",
    "    common_movies = []\n",
    "    \n",
    "    # Finding common ratings between the two users\n",
    "    f_1 = ratings[u1_id]\n",
    "    f_2 = ratings[u2_id]\n",
    "    if len(f_1) > len(f_2):\n",
    "        for idx in f_2:\n",
    "            if idx in f_1:\n",
    "                common_movies.append(idx)\n",
    "    else:\n",
    "        for idx in f_1:\n",
    "            if idx in f_2:\n",
    "                common_movies.append(idx)\n",
    "        \n",
    "    # No common ratings -> similarity is 0\n",
    "    if len(common_movies) == 0:\n",
    "        return 0\n",
    "\n",
    "    # Calculating normalized Euclidean distance between two users based on their common ratings\n",
    "    w = 0    \n",
    "    for m_id in common_movies:\n",
    "        # Implementing the above formula\n",
    "        rating_diff = (f_1[m_id] - f_2[m_id])**2\n",
    "        w += rating_diff\n",
    "    w = 1/(1+w)\n",
    "    \n",
    "    return w"
   ]
  },
  {
   "cell_type": "markdown",
   "metadata": {},
   "source": [
    "### Task 3: The Recommender System\n",
    "Now it is time to **implement the collabortive filtering recommender system that outputs the recommended movies for a target user**. Use the functionality defined above to compute the similarity scores between them and calculate the resulting estimated ratings. Sort the movies according to the highest rating before returning them."
   ]
  },
  {
   "cell_type": "code",
   "execution_count": 3,
   "metadata": {},
   "outputs": [
    {
     "name": "stdout",
     "output_type": "stream",
     "text": [
      "Recommendation for user 15 : [('Saint of Fort Washington, The (1993)', 5.000000000000001), ('Prefontaine (1997)', 5.000000000000001), ('Entertaining Angels: The Dorothy Day Story (1996)', 5.0), (\"Someone Else's America (1995)\", 5.0), ('Aiqing wansui (1994)', 5.0), ('Santa with Muscles (1996)', 5.0), ('Star Kid (1997)', 5.0), ('Marlene Dietrich: Shadow and Light (1996) ', 5.0), ('They Made Me a Criminal (1939)', 5.0), ('Great Day in Harlem, A (1994)', 5.0), ('Letter From Death Row, A (1998)', 4.886561954624781), ('Bitter Sugar (Azucar Amargo) (1996)', 4.853953971275307), ('Pather Panchali (1955)', 4.824191713371869), ('World of Apu, The (Apur Sansar) (1959)', 4.7578639291960725), (\"C'est arrivé près de chez vous (1992)\", 4.677186255714496), (\"Some Mother's Son (1996)\", 4.665094339622642), ('Braindead (1992)', 4.648287265011339), ('Close Shave, A (1995)', 4.604920391555617), ('Paths of Glory (1957)', 4.585030356242251), ('Faust (1994)', 4.584110922709905)]\n"
     ]
    }
   ],
   "source": [
    "def cf_recommend(ratings, tgt_u_id):\n",
    "    w_ratings = {} # Weighted ratings\n",
    "    sim_scores = {} # Similarity scores\n",
    "    recommended_movies = [] # Each element is a tuple (est_rating, m_id)\n",
    "\n",
    "    for u_id in ratings:\n",
    "        # Compute similarity scores between the target user and all others\n",
    "        if u_id != tgt_u_id:\n",
    "            w = calculate_similarity_score(ratings, tgt_u_id, u_id)\n",
    "            \n",
    "            # If 0, estimated recommendation will be 0\n",
    "            if w > 0:\n",
    "                # Check movies rated by user (but not target user)\n",
    "                for m_id in ratings[u_id]:                    \n",
    "                    if m_id not in ratings[tgt_u_id]:\n",
    "                        # Calculating weighted ratings and add them up\n",
    "                        if m_id in w_ratings:\n",
    "                            w_ratings[m_id] += ratings[u_id][m_id] * w\n",
    "                        else:\n",
    "                            w_ratings[m_id] = ratings[u_id][m_id] * w\n",
    "                        # Adding up similarity scores\n",
    "                        if m_id in sim_scores:\n",
    "                            sim_scores[m_id] += w\n",
    "                        else:\n",
    "                            sim_scores[m_id] = w\n",
    "\n",
    "    for movie in w_ratings:\n",
    "        est_rating = w_ratings[movie]/sim_scores[movie]\n",
    "        recommended_movies.append((est_rating, movie))\n",
    "        \n",
    "    # Sorting the list\n",
    "    list.sort(recommended_movies, reverse = True)\n",
    "    return recommended_movies\n",
    "\n",
    "\n",
    "# Create dictionaries\n",
    "movie_dict = create_movie_dict('movielens/u.item')\n",
    "ratings_dict = create_user_rating_dict('movielens/u.data')\n",
    "\n",
    "# Run for user 15\n",
    "user = 15\n",
    "recommended_movies = cf_recommend(ratings_dict, user)\n",
    "\n",
    "# Show the top twenty entries\n",
    "top_twenty = []\n",
    "for est_rating, m_id in recommended_movies[:20]:\n",
    "    top_twenty.append((movie_dict[m_id], est_rating))\n",
    "\n",
    "print('Recommendation for user', user, ':', top_twenty)"
   ]
  }
 ],
 "metadata": {
  "anaconda-cloud": {},
  "kernelspec": {
   "display_name": "Python 3",
   "language": "python",
   "name": "python3"
  },
  "language_info": {
   "codemirror_mode": {
    "name": "ipython",
    "version": 3
   },
   "file_extension": ".py",
   "mimetype": "text/x-python",
   "name": "python",
   "nbconvert_exporter": "python",
   "pygments_lexer": "ipython3",
   "version": "3.7.3"
  }
 },
 "nbformat": 4,
 "nbformat_minor": 1
}
